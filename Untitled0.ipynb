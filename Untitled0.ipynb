{
  "cells": [
    {
      "cell_type": "markdown",
      "metadata": {
        "id": "view-in-github",
        "colab_type": "text"
      },
      "source": [
        "<a href=\"https://colab.research.google.com/github/yasharth291/Web-Projects/blob/master/Untitled0.ipynb\" target=\"_parent\"><img src=\"https://colab.research.google.com/assets/colab-badge.svg\" alt=\"Open In Colab\"/></a>"
      ]
    },
    {
      "cell_type": "code",
      "execution_count": null,
      "metadata": {
        "id": "o1BG-Mc_kBZ2"
      },
      "outputs": [],
      "source": [
        "!pip install pretrainedmodels"
      ]
    },
    {
      "cell_type": "code",
      "source": [
        "!python3 /content/drive/MyDrive/format_prid.py"
      ],
      "metadata": {
        "id": "50euZ5Y2SUQm",
        "colab": {
          "base_uri": "https://localhost:8080/"
        },
        "outputId": "3bc80a6d-b12c-432f-ef6f-f37f7e7af8d6"
      },
      "execution_count": 28,
      "outputs": [
        {
          "output_type": "stream",
          "name": "stdout",
          "text": [
            "^C\n"
          ]
        }
      ]
    },
    {
      "cell_type": "code",
      "execution_count": null,
      "metadata": {
        "id": "A_AHKVf4O-ym"
      },
      "outputs": [],
      "source": [
        "!python3 /content/drive/MyDrive/FedReID-master/data_preprocess/prepare_all_datasets.py"
      ]
    },
    {
      "cell_type": "code",
      "execution_count": 56,
      "metadata": {
        "colab": {
          "base_uri": "https://localhost:8080/"
        },
        "id": "dn8oBeqBgbK5",
        "outputId": "9a17eed9-aec2-4ccd-9bf8-98d436a03d11"
      },
      "outputs": [
        {
          "output_type": "stream",
          "name": "stdout",
          "text": [
            "Namespace(batch_size=32, cdw=False, color_jitter=False, data_dir='/content/drive/MyDrive/FedReID-master/data_preprocess/data', datasets='prid', drop_rate=0.5, erasing_p=0, gpu_ids='0', kd=False, local_epoch=5, lr=0.05, model_name='ft_ResNet50', multi=False, multiple_scale='1', num_of_clients=1, project_dir='/content/drive/MyDrive/FedReID-master/', regularization=False, stride=2, test_dir='all', train_all=False, which_epoch='last')\n",
            "Train dataset sizes: {'prid': 3006}\n",
            "Train class sizes: {'prid': 285}\n",
            "Query Sizes: 100\n",
            "Gallery Sizes: 649\n",
            "=====training start!========\n",
            "==========\n",
            "Round Number 0\n",
            "==========\n",
            "Client prid start training\n",
            "Epoch 0/4\n",
            "----------\n",
            "/usr/local/lib/python3.7/dist-packages/torchvision/transforms/transforms.py:333: UserWarning: Argument interpolation should be of type InterpolationMode instead of int. Please, use InterpolationMode enum.\n",
            "  \"Argument interpolation should be of type InterpolationMode instead of int. \"\n",
            "/usr/local/lib/python3.7/dist-packages/torch/utils/data/dataloader.py:490: UserWarning: This DataLoader will create 8 worker processes in total. Our suggested max number of worker in current system is 2, which is smaller than what this DataLoader is going to create. Please be aware that excessive worker creation might get DataLoader running slow or even freeze, lower the worker number to avoid potential slowness/freeze if necessary.\n",
            "  cpuset_checked))\n",
            "/usr/local/lib/python3.7/dist-packages/torch/optim/lr_scheduler.py:136: UserWarning: Detected call of `lr_scheduler.step()` before `optimizer.step()`. In PyTorch 1.1.0 and later, you should call them in the opposite order: `optimizer.step()` before `lr_scheduler.step()`.  Failure to do this will result in PyTorch skipping the first value of the learning rate schedule. See more details at https://pytorch.org/docs/stable/optim.html#how-to-adjust-learning-rate\n",
            "  \"https://pytorch.org/docs/stable/optim.html#how-to-adjust-learning-rate\", UserWarning)\n",
            "train Loss: 3.2028 Acc: 0.3485\n",
            "Client prid  Training complete in 0m 51s\n",
            "Epoch 1/4\n",
            "----------\n",
            "train Loss: 0.7135 Acc: 0.8159\n",
            "Client prid  Training complete in 1m 41s\n",
            "Epoch 2/4\n",
            "----------\n",
            "train Loss: 0.1504 Acc: 0.9580\n",
            "Client prid  Training complete in 2m 31s\n",
            "Epoch 3/4\n",
            "----------\n",
            "train Loss: 0.0674 Acc: 0.9849\n",
            "Client prid  Training complete in 3m 21s\n",
            "Epoch 4/4\n",
            "----------\n",
            "train Loss: 0.0476 Acc: 0.9896\n",
            "Client prid  Training complete in 4m 11s\n",
            "Client prid Training complete in 4m 11s\n",
            "==============================\n",
            "number of clients used: 1\n",
            "Train Epoch: 0, AVG Train Loss among clients of lost epoch: 0.047590\n",
            "\n",
            "==========\n",
            "Start Tesing!\n",
            "==========\n",
            "We use the scale: [1.0]\n",
            "torch.Size([100, 512])\n",
            "prid Rank@1:0.360000 Rank@5:0.610000 Rank@10:0.740000 mAP:0.419762\n",
            "---------------\n",
            "\n",
            "ft_ResNet50\n",
            "prid\n"
          ]
        }
      ],
      "source": [
        "!python3 /content/drive/MyDrive/FedReID-master/main.py 2>&1 | tee /content/drive/MyDrive/FedReID-master/log/fedreid_test5.log &"
      ]
    },
    {
      "cell_type": "code",
      "source": [
        "!python3 /content/drive/MyDrive/FedReID-master/experiments/plot_Rank1_versus_local_epoch.py "
      ],
      "metadata": {
        "colab": {
          "base_uri": "https://localhost:8080/"
        },
        "id": "HcdUf6X4gJkR",
        "outputId": "7eff9f25-4477-4d36-8633-3dd4612e4973"
      },
      "execution_count": 60,
      "outputs": [
        {
          "output_type": "stream",
          "name": "stdout",
          "text": [
            "[[7.333333333333333, 7.333333333333333, 7.333333333333333, 7.333333333333333, 7.333333333333333, 7.333333333333333, 7.333333333333333, 7.333333333333333, 7.333333333333333], [12.0, 12.0, 12.0, 12.0, 12.0, 12.0, 12.0, 12.0, 12.0]]\n"
          ]
        }
      ]
    },
    {
      "cell_type": "code",
      "source": [
        "!python3 /content/drive/MyDrive/FedReID-master/experiments/plot_Rank1_mAP_curve.py"
      ],
      "metadata": {
        "colab": {
          "base_uri": "https://localhost:8080/"
        },
        "id": "29sz8nDXgLsn",
        "outputId": "50da0aaa-fffb-4072-9e52-e1b8852851c8"
      },
      "execution_count": 55,
      "outputs": [
        {
          "output_type": "stream",
          "name": "stdout",
          "text": [
            "python3: can't open file '/content/drive/MyDrive/FedReID-master/experiments/plot_Rank1_mAP_curve.py': [Errno 2] No such file or directory\n"
          ]
        }
      ]
    },
    {
      "cell_type": "code",
      "source": [
        "!wget https://files.icg.tugraz.at/seafhttp/files/702d62b6-22a8-4a29-bc8e-05e1483a16d6/prid_2011.zip"
      ],
      "metadata": {
        "colab": {
          "base_uri": "https://localhost:8080/"
        },
        "id": "vrJt8zG9WF-H",
        "outputId": "1d3e869f-aa87-47f9-a295-ed18ec0b8609"
      },
      "execution_count": 11,
      "outputs": [
        {
          "output_type": "stream",
          "name": "stdout",
          "text": [
            "--2022-04-28 17:22:51--  https://files.icg.tugraz.at/seafhttp/files/702d62b6-22a8-4a29-bc8e-05e1483a16d6/prid_2011.zip\n",
            "Resolving files.icg.tugraz.at (files.icg.tugraz.at)... 129.27.201.106\n",
            "Connecting to files.icg.tugraz.at (files.icg.tugraz.at)|129.27.201.106|:443... connected.\n",
            "HTTP request sent, awaiting response... 200 OK\n",
            "Length: 1064626547 (1015M) [application/zip]\n",
            "Saving to: ‘prid_2011.zip’\n",
            "\n",
            "prid_2011.zip       100%[===================>]   1015M  99.9MB/s    in 11s     \n",
            "\n",
            "2022-04-28 17:23:02 (93.4 MB/s) - ‘prid_2011.zip’ saved [1064626547/1064626547]\n",
            "\n"
          ]
        }
      ]
    },
    {
      "cell_type": "code",
      "source": [
        "!unzip prid_2011 -d \"/content/drive/MyDrive/prid\""
      ],
      "metadata": {
        "colab": {
          "base_uri": "https://localhost:8080/"
        },
        "id": "MBLK6WqMWGWY",
        "outputId": "9cf38aec-fa8e-41c7-f4ea-4b76df2cd42b"
      },
      "execution_count": 12,
      "outputs": [
        {
          "output_type": "stream",
          "name": "stdout",
          "text": [
            "Archive:  prid_2011.zip\n",
            "replace /content/drive/MyDrive/prid/multi_shot/cam_a/person_0001/0001.png? [y]es, [n]o, [A]ll, [N]one, [r]ename: "
          ]
        }
      ]
    },
    {
      "cell_type": "code",
      "source": [
        "from google.colab import drive\n",
        "drive.mount('/content/drive')"
      ],
      "metadata": {
        "colab": {
          "base_uri": "https://localhost:8080/"
        },
        "id": "wn_ZW-RezgdV",
        "outputId": "d18fb5ca-716f-4d3a-b92c-a003ca59545a"
      },
      "execution_count": 1,
      "outputs": [
        {
          "output_type": "stream",
          "name": "stdout",
          "text": [
            "Mounted at /content/drive\n"
          ]
        }
      ]
    },
    {
      "cell_type": "code",
      "source": [
        "!nvidia-smi"
      ],
      "metadata": {
        "colab": {
          "base_uri": "https://localhost:8080/"
        },
        "id": "w-Ls2PQmJPyK",
        "outputId": "9e79ba2c-0e6e-4668-9287-e7418314bacc"
      },
      "execution_count": 2,
      "outputs": [
        {
          "output_type": "stream",
          "name": "stdout",
          "text": [
            "Thu Apr 28 17:09:06 2022       \n",
            "+-----------------------------------------------------------------------------+\n",
            "| NVIDIA-SMI 460.32.03    Driver Version: 460.32.03    CUDA Version: 11.2     |\n",
            "|-------------------------------+----------------------+----------------------+\n",
            "| GPU  Name        Persistence-M| Bus-Id        Disp.A | Volatile Uncorr. ECC |\n",
            "| Fan  Temp  Perf  Pwr:Usage/Cap|         Memory-Usage | GPU-Util  Compute M. |\n",
            "|                               |                      |               MIG M. |\n",
            "|===============================+======================+======================|\n",
            "|   0  Tesla K80           Off  | 00000000:00:04.0 Off |                    0 |\n",
            "| N/A   69C    P8    35W / 149W |      0MiB / 11441MiB |      0%      Default |\n",
            "|                               |                      |                  N/A |\n",
            "+-------------------------------+----------------------+----------------------+\n",
            "                                                                               \n",
            "+-----------------------------------------------------------------------------+\n",
            "| Processes:                                                                  |\n",
            "|  GPU   GI   CI        PID   Type   Process name                  GPU Memory |\n",
            "|        ID   ID                                                   Usage      |\n",
            "|=============================================================================|\n",
            "|  No running processes found                                                 |\n",
            "+-----------------------------------------------------------------------------+\n"
          ]
        }
      ]
    },
    {
      "cell_type": "code",
      "source": [
        "import torch\n",
        "torch.cuda.is_available()"
      ],
      "metadata": {
        "colab": {
          "base_uri": "https://localhost:8080/"
        },
        "id": "Gdu_CdJrJekq",
        "outputId": "5ae03dc5-0535-4314-f1c5-1497a144fb6b"
      },
      "execution_count": 3,
      "outputs": [
        {
          "output_type": "execute_result",
          "data": {
            "text/plain": [
              "True"
            ]
          },
          "metadata": {},
          "execution_count": 3
        }
      ]
    },
    {
      "cell_type": "code",
      "source": [
        "import tensorflow as tf\n",
        "tf.test.gpu_device_name()\n",
        "# Standard output is '/device:GPU:0'"
      ],
      "metadata": {
        "colab": {
          "base_uri": "https://localhost:8080/",
          "height": 36
        },
        "id": "7u4ZEwH_JlnC",
        "outputId": "ed625137-3f28-4732-d4e0-88e6ba9c98c7"
      },
      "execution_count": 4,
      "outputs": [
        {
          "output_type": "execute_result",
          "data": {
            "text/plain": [
              "'/device:GPU:0'"
            ],
            "application/vnd.google.colaboratory.intrinsic+json": {
              "type": "string"
            }
          },
          "metadata": {},
          "execution_count": 4
        }
      ]
    }
  ],
  "metadata": {
    "colab": {
      "collapsed_sections": [],
      "name": "Untitled0.ipynb",
      "provenance": [],
      "include_colab_link": true
    },
    "kernelspec": {
      "display_name": "Python 3",
      "name": "python3"
    },
    "language_info": {
      "name": "python"
    },
    "accelerator": "GPU"
  },
  "nbformat": 4,
  "nbformat_minor": 0
}